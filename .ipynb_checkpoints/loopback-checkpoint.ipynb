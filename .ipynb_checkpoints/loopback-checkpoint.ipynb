{
 "cells": [
  {
   "cell_type": "code",
   "execution_count": 2,
   "id": "becoming-ceramic",
   "metadata": {},
   "outputs": [],
   "source": [
    "import pyaudio"
   ]
  },
  {
   "cell_type": "code",
   "execution_count": 3,
   "id": "stainless-whale",
   "metadata": {},
   "outputs": [],
   "source": [
    "def get_record_devices():\n",
    "\n",
    "    p = pyaudio.PyAudio()\n",
    "    devices = {}\n",
    "\n",
    "    for idx in range(0, p.get_device_count()):\n",
    "        info = p.get_device_info_by_index(idx)\n",
    "        if (p.get_host_api_info_by_index(info[\"hostApi\"])[\"name\"]).find(\"WASAPI\") != -1:\n",
    "            name = p.get_device_info_by_index(idx).get('name')\n",
    "            idx = p.get_device_info_by_index(idx).get('index')\n",
    "            devices[name] = idx\n",
    "    \n",
    "    p.terminate()\n",
    "    return devices"
   ]
  },
  {
   "cell_type": "code",
   "execution_count": 4,
   "id": "pleased-bouquet",
   "metadata": {},
   "outputs": [
    {
     "data": {
      "text/plain": [
       "{'Realtek Digital Output(Realtek High Definition Audio)': 8,\n",
       " 'HP X24ih(NVIDIA High Definition Audio)': 9,\n",
       " '스피커(Realtek High Definition Audio)': 10}"
      ]
     },
     "execution_count": 4,
     "metadata": {},
     "output_type": "execute_result"
    }
   ],
   "source": [
    "get_record_devices()"
   ]
  },
  {
   "cell_type": "code",
   "execution_count": 14,
   "id": "intense-chick",
   "metadata": {},
   "outputs": [],
   "source": [
    "import threading\n",
    "\n",
    "class RecordWorker(threading.Thread):\n",
    "    def __init__(self, device_index):\n",
    "        super().__init__()\n",
    "        self.recorded_frames = []\n",
    "        self.trigger = False\n",
    "        self.device_index = device_index\n",
    "\n",
    "    def run(self):\n",
    "        p = pyaudio.PyAudio()\n",
    "        device_info = p.get_device_info_by_index(self.device_index)\n",
    "\n",
    "        defaultframes = 512\n",
    "\n",
    "        channelcount = device_info[\"maxInputChannels\"] \\\n",
    "            if (device_info[\"maxOutputChannels\"] < device_info[\"maxInputChannels\"]) else device_info[\"maxOutputChannels\"]\n",
    "        is_output = device_info[\"maxOutputChannels\"] > 0\n",
    "\n",
    "        stream = p.open(format=pyaudio.paInt16,\n",
    "                        channels=channelcount,\n",
    "                        rate=int(device_info[\"defaultSampleRate\"]),\n",
    "                        input=True,\n",
    "                        frames_per_buffer=defaultframes,\n",
    "                        input_device_index=device_info[\"index\"],\n",
    "                        as_loopback=is_output)\n",
    "\n",
    "        byterate = int(device_info[\"defaultSampleRate\"]) / defaultframes\n",
    "\n",
    "        for block in iter(lambda: stream.read(int(byterate / 4)), b''):\n",
    "            self.recorded_frames.append(block)\n",
    "            if self.trigger:\n",
    "                break\n",
    "\n",
    "        stream.stop_stream()\n",
    "        stream.close()\n",
    "        p.terminate()\n",
    "\n",
    "    def set_trigger(self):\n",
    "        self.trigger = True"
   ]
  },
  {
   "cell_type": "code",
   "execution_count": 15,
   "id": "statewide-shareware",
   "metadata": {},
   "outputs": [
    {
     "name": "stdout",
     "output_type": "stream",
     "text": [
      "q\n"
     ]
    }
   ],
   "source": [
    "device_index = 4  # 헤드폰(AirPods Pro Stereo)\n",
    "worker = RecordWorker(device_index)\n",
    "worker.start()\n",
    "while input() != 'q':\n",
    "    continue"
   ]
  },
  {
   "cell_type": "code",
   "execution_count": 16,
   "id": "funded-favorite",
   "metadata": {},
   "outputs": [],
   "source": [
    "frames = worker.recorded_frames"
   ]
  },
  {
   "cell_type": "code",
   "execution_count": 18,
   "id": "actual-printing",
   "metadata": {},
   "outputs": [],
   "source": [
    "import wave\n",
    "\n",
    "def save_audio_frames(path, frames, device_index):\n",
    "    p = pyaudio.PyAudio()\n",
    "\n",
    "    device_info = p.get_device_info_by_index(device_index)\n",
    "    channelcount = device_info[\"maxInputChannels\"]\\\n",
    "        if (device_info[\"maxOutputChannels\"] < device_info[\"maxInputChannels\"]) else device_info[\"maxOutputChannels\"]\n",
    "\n",
    "    waveFile = wave.open(path, 'wb')\n",
    "    waveFile.setnchannels(channelcount)\n",
    "    waveFile.setsampwidth(p.get_sample_size(pyaudio.paInt16))\n",
    "    waveFile.setframerate(int(device_info[\"defaultSampleRate\"]))\n",
    "    waveFile.writeframes(b''.join(frames))\n",
    "    waveFile.close()"
   ]
  },
  {
   "cell_type": "code",
   "execution_count": 19,
   "id": "demanding-logging",
   "metadata": {},
   "outputs": [],
   "source": [
    "save_audio_frames('test.wav', frames, device_index)"
   ]
  }
 ],
 "metadata": {
  "kernelspec": {
   "display_name": "Python 3",
   "language": "python",
   "name": "python3"
  },
  "language_info": {
   "codemirror_mode": {
    "name": "ipython",
    "version": 3
   },
   "file_extension": ".py",
   "mimetype": "text/x-python",
   "name": "python",
   "nbconvert_exporter": "python",
   "pygments_lexer": "ipython3",
   "version": "3.9.2"
  }
 },
 "nbformat": 4,
 "nbformat_minor": 5
}
